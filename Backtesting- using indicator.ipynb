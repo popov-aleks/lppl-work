{
 "cells": [
  {
   "cell_type": "code",
   "execution_count": 16,
   "id": "89bea321",
   "metadata": {},
   "outputs": [],
   "source": [
    "import vectorbt as vbt\n",
    "import yfinance as yf\n",
    "import numpy as np\n",
    "import pandas as pd\n",
    "from datetime import datetime, timedelta\n",
    "from scipy.optimize import least_squares\n",
    "from sklearn.metrics import r2_score\n",
    "import warnings\n",
    "from lppls import lppls\n",
    "import time\n",
    "\n",
    "\n",
    "warnings.filterwarnings('ignore')\n",
    "\n",
    "# Downloading the list of tickers in the S&P 500, removing BRK.B and BF.B as these always cause issues. \n",
    "# stocks100 is simply the first 100 stocks (just used for testing)\n",
    "url = 'https://en.wikipedia.org/wiki/List_of_S%26P_500_companies'\n",
    "tables = pd.read_html(url)\n",
    "table = tables[0]\n",
    "stocks = table['Symbol'].tolist()\n",
    "stocks.remove('BRK.B')\n",
    "stocks.remove('BF.B')\n",
    "stocks100 = stocks[:100]\n",
    "stocks10 = stocks[:10]\n",
    "\n",
    "# The start and end dates for the backtest. Data will be fetched from a certain time before that for modelling purposes.\n",
    "start_date='2022-10-15'\n",
    "end_date='2023-06-15'\n",
    "\n",
    "\n",
    "# Loss function to calculate value of r^2\n",
    "def loss(params, x, y):\n",
    "    return func(x, *params) - y\n",
    "\n",
    "# Exponential function for modelling\n",
    "def func(x, a, b, c):\n",
    "    return a * np.exp(b * x) + c\n",
    "\n",
    "# This is the actual indicator. Currently, it is based on the modelling of the log of 5-day moving average of the price data\n",
    "# model_window days before the current date to an exponential curve. This modelling happens every 30 days (but can be modified).\n",
    "# This is slightly arbitrary, but is just a starting point I chose, where the threshold depends on the multiple of the\n",
    "# model's exponent and its r^2 value, ie how closely it resembles a faster-than-exponential growth. If the model meets the\n",
    "# requirements, we fit it to the LPPL model. I have tried doing the normal curve_fit in this case, but that takes an \n",
    "# incredibly long time. However, there is an lppl library in Python which is very efficient and, having visualised it, \n",
    "# seems to be quite good at fitting. There is a parameter, max_searches, which can be adjusted to prevent overfitting etc.\n",
    "# Then, if the predicted bubble burst is more than 14 days into the future, we buy the stock, and sell it 14 days before tc.\n",
    "# We sell everything at the end of the window.\n",
    "def exp_growth_and_r2(close, model_window=120, r2_b_threshold=0.0005, days_before_tc=7, max_searches=20):\n",
    "    try:\n",
    "        output = np.zeros(len(close))\n",
    "        for i in range(model_window, len(close), 30):\n",
    "            historical_data = close.iloc[i-model_window:i]\n",
    "            historical_data = historical_data.rolling(window = 5).mean().dropna()\n",
    "\n",
    "            historical_data.dropna(inplace=True)\n",
    "\n",
    "            xdata = (historical_data.index - historical_data.index[0]).days.values\n",
    "            ydata = historical_data.values\n",
    "            log_ydata = np.log(ydata + 1).ravel()\n",
    "\n",
    "            res = least_squares(loss, x0=(1, 0.01, 1), args=(xdata, log_ydata))\n",
    "\n",
    "            fitted_y = func(xdata, *res.x).ravel()\n",
    "\n",
    "            a, b, c = res.x\n",
    "            r2 = r2_score(log_ydata, fitted_y)\n",
    "            \n",
    "            if r2 * b > r2_b_threshold:\n",
    "                time = [pd.Timestamp.toordinal(t) for t in historical_data.index]\n",
    "\n",
    "                price = np.log(historical_data.values).ravel()\n",
    "\n",
    "                observations = np.array([time, price])\n",
    "\n",
    "                tcs = []\n",
    "\n",
    "                for _ in range(5):\n",
    "                    lppls_model = lppls.LPPLS(observations=observations)\n",
    "                    tc, m, w, a, b, c1, c2, phi, O, D = lppls_model.fit(max_searches)\n",
    "                    tcs.append(tc)\n",
    "\n",
    "                tc = np.median(tcs)\n",
    "                tc = tc - datetime.toordinal(historical_data.index[-1])\n",
    "                \n",
    "                if tc > 14:\n",
    "                    output[i] = 1\n",
    "                    if i+int(round(tc))-14 < len(output):\n",
    "                        output[i+int(round(tc))-14]=-1\n",
    "                \n",
    "        output[-1] = -1\n",
    "        return output\n",
    "    \n",
    "    except Exception as e:\n",
    "        print(f\"Couldn't process stock. Error: {str(e)}\")\n",
    "\n",
    "# Creating the indicator\n",
    "BuyIndicator = vbt.IndicatorFactory(\n",
    "    input_names=['close'],\n",
    "    param_names=['model_window', 'r2_b_threshold', 'days_before_tc', 'max_searches'],\n",
    "    output_names=['buy_indicator']\n",
    ").from_apply_func(exp_growth_and_r2,\n",
    "                model_window=90, \n",
    "                r2_b_threshold=0.001, \n",
    "                days_before_tc=14, \n",
    "                max_searches=25,\n",
    "                keep_pd=True,\n",
    "                per_column=True)"
   ]
  },
  {
   "cell_type": "code",
   "execution_count": 15,
   "id": "6ff4d44f",
   "metadata": {},
   "outputs": [
    {
     "name": "stdout",
     "output_type": "stream",
     "text": [
      "[*********************100%***********************]  501 of 501 completed\n",
      "Start                         2022-10-17 00:00:00\n",
      "End                           2023-06-14 00:00:00\n",
      "Period                                        166\n",
      "Start Value                           501000000.0\n",
      "End Value                        501080493.297449\n",
      "Total Return [%]                         0.016067\n",
      "Benchmark Return [%]                    13.917037\n",
      "Max Gross Exposure [%]                   0.508742\n",
      "Total Fees Paid                       6507.342288\n",
      "Max Drawdown [%]                         0.021767\n",
      "Max Drawdown Duration                        66.0\n",
      "Total Trades                                  283\n",
      "Total Closed Trades                           283\n",
      "Total Open Trades                               0\n",
      "Open Trade PnL                                0.0\n",
      "Win Rate [%]                            51.236749\n",
      "Best Trade [%]                         107.859344\n",
      "Worst Trade [%]                        -32.857602\n",
      "Avg Winning Trade [%]                   11.924939\n",
      "Avg Losing Trade [%]                     -8.14237\n",
      "Avg Winning Trade Duration              63.813793\n",
      "Avg Losing Trade Duration               67.615942\n",
      "Profit Factor                            1.706432\n",
      "Expectancy                             284.428613\n",
      "Name: group, dtype: object\n"
     ]
    },
    {
     "data": {
      "application/vnd.plotly.v1+json": {
       "config": {
        "plotlyServerURL": "https://plot.ly"
       },
       "data": [
        {
         "showlegend": false,
         "type": "scatter",
         "uid": "8604bfce-5565-4e9a-8450-59bc4664f7d1",
         "x": [
          "2022-10-17T00:00:00",
          "2022-10-18T00:00:00",
          "2022-10-19T00:00:00",
          "2022-10-20T00:00:00",
          "2022-10-21T00:00:00",
          "2022-10-24T00:00:00",
          "2022-10-25T00:00:00",
          "2022-10-26T00:00:00",
          "2022-10-27T00:00:00",
          "2022-10-28T00:00:00",
          "2022-10-31T00:00:00",
          "2022-11-01T00:00:00",
          "2022-11-02T00:00:00",
          "2022-11-03T00:00:00",
          "2022-11-04T00:00:00",
          "2022-11-07T00:00:00",
          "2022-11-08T00:00:00",
          "2022-11-09T00:00:00",
          "2022-11-10T00:00:00",
          "2022-11-11T00:00:00",
          "2022-11-14T00:00:00",
          "2022-11-15T00:00:00",
          "2022-11-16T00:00:00",
          "2022-11-17T00:00:00",
          "2022-11-18T00:00:00",
          "2022-11-21T00:00:00",
          "2022-11-22T00:00:00",
          "2022-11-23T00:00:00",
          "2022-11-25T00:00:00",
          "2022-11-28T00:00:00",
          "2022-11-29T00:00:00",
          "2022-11-30T00:00:00",
          "2022-12-01T00:00:00",
          "2022-12-02T00:00:00",
          "2022-12-05T00:00:00",
          "2022-12-06T00:00:00",
          "2022-12-07T00:00:00",
          "2022-12-08T00:00:00",
          "2022-12-09T00:00:00",
          "2022-12-12T00:00:00",
          "2022-12-13T00:00:00",
          "2022-12-14T00:00:00",
          "2022-12-15T00:00:00",
          "2022-12-16T00:00:00",
          "2022-12-19T00:00:00",
          "2022-12-20T00:00:00",
          "2022-12-21T00:00:00",
          "2022-12-22T00:00:00",
          "2022-12-23T00:00:00",
          "2022-12-27T00:00:00",
          "2022-12-28T00:00:00",
          "2022-12-29T00:00:00",
          "2022-12-30T00:00:00",
          "2023-01-03T00:00:00",
          "2023-01-04T00:00:00",
          "2023-01-05T00:00:00",
          "2023-01-06T00:00:00",
          "2023-01-09T00:00:00",
          "2023-01-10T00:00:00",
          "2023-01-11T00:00:00",
          "2023-01-12T00:00:00",
          "2023-01-13T00:00:00",
          "2023-01-17T00:00:00",
          "2023-01-18T00:00:00",
          "2023-01-19T00:00:00",
          "2023-01-20T00:00:00",
          "2023-01-23T00:00:00",
          "2023-01-24T00:00:00",
          "2023-01-25T00:00:00",
          "2023-01-26T00:00:00",
          "2023-01-27T00:00:00",
          "2023-01-30T00:00:00",
          "2023-01-31T00:00:00",
          "2023-02-01T00:00:00",
          "2023-02-02T00:00:00",
          "2023-02-03T00:00:00",
          "2023-02-06T00:00:00",
          "2023-02-07T00:00:00",
          "2023-02-08T00:00:00",
          "2023-02-09T00:00:00",
          "2023-02-10T00:00:00",
          "2023-02-13T00:00:00",
          "2023-02-14T00:00:00",
          "2023-02-15T00:00:00",
          "2023-02-16T00:00:00",
          "2023-02-17T00:00:00",
          "2023-02-21T00:00:00",
          "2023-02-22T00:00:00",
          "2023-02-23T00:00:00",
          "2023-02-24T00:00:00",
          "2023-02-27T00:00:00",
          "2023-02-28T00:00:00",
          "2023-03-01T00:00:00",
          "2023-03-02T00:00:00",
          "2023-03-03T00:00:00",
          "2023-03-06T00:00:00",
          "2023-03-07T00:00:00",
          "2023-03-08T00:00:00",
          "2023-03-09T00:00:00",
          "2023-03-10T00:00:00",
          "2023-03-13T00:00:00",
          "2023-03-14T00:00:00",
          "2023-03-15T00:00:00",
          "2023-03-16T00:00:00",
          "2023-03-17T00:00:00",
          "2023-03-20T00:00:00",
          "2023-03-21T00:00:00",
          "2023-03-22T00:00:00",
          "2023-03-23T00:00:00",
          "2023-03-24T00:00:00",
          "2023-03-27T00:00:00",
          "2023-03-28T00:00:00",
          "2023-03-29T00:00:00",
          "2023-03-30T00:00:00",
          "2023-03-31T00:00:00",
          "2023-04-03T00:00:00",
          "2023-04-04T00:00:00",
          "2023-04-05T00:00:00",
          "2023-04-06T00:00:00",
          "2023-04-10T00:00:00",
          "2023-04-11T00:00:00",
          "2023-04-12T00:00:00",
          "2023-04-13T00:00:00",
          "2023-04-14T00:00:00",
          "2023-04-17T00:00:00",
          "2023-04-18T00:00:00",
          "2023-04-19T00:00:00",
          "2023-04-20T00:00:00",
          "2023-04-21T00:00:00",
          "2023-04-24T00:00:00",
          "2023-04-25T00:00:00",
          "2023-04-26T00:00:00",
          "2023-04-27T00:00:00",
          "2023-04-28T00:00:00",
          "2023-05-01T00:00:00",
          "2023-05-02T00:00:00",
          "2023-05-03T00:00:00",
          "2023-05-04T00:00:00",
          "2023-05-05T00:00:00",
          "2023-05-08T00:00:00",
          "2023-05-09T00:00:00",
          "2023-05-10T00:00:00",
          "2023-05-11T00:00:00",
          "2023-05-12T00:00:00",
          "2023-05-15T00:00:00",
          "2023-05-16T00:00:00",
          "2023-05-17T00:00:00",
          "2023-05-18T00:00:00",
          "2023-05-19T00:00:00",
          "2023-05-22T00:00:00",
          "2023-05-23T00:00:00",
          "2023-05-24T00:00:00",
          "2023-05-25T00:00:00",
          "2023-05-26T00:00:00",
          "2023-05-30T00:00:00",
          "2023-05-31T00:00:00",
          "2023-06-01T00:00:00",
          "2023-06-02T00:00:00",
          "2023-06-05T00:00:00",
          "2023-06-06T00:00:00",
          "2023-06-07T00:00:00",
          "2023-06-08T00:00:00",
          "2023-06-09T00:00:00",
          "2023-06-12T00:00:00",
          "2023-06-13T00:00:00",
          "2023-06-14T00:00:00"
         ],
         "y": [
          501000000,
          501000000,
          501000000,
          501000000,
          501000000,
          501000000,
          501000000,
          501000000,
          501000000,
          501000000,
          501000000,
          501000000,
          501000000,
          501000000,
          501000000,
          501000000,
          501000000,
          501000000,
          501000000,
          501000000,
          501000000,
          501000000,
          501000000,
          501000000,
          501000000,
          501000000,
          501000000,
          501000000,
          501000000,
          501000000,
          501000000,
          501000000,
          501000000,
          501000000,
          501000000,
          501000000,
          501000000,
          501000000,
          501000000,
          501000000,
          501000000,
          501000000,
          501000000,
          501000000,
          501000000,
          501000000,
          501000000,
          501000000,
          501000000,
          501000000,
          501000000,
          501000000,
          501000000,
          501000000,
          501000000,
          501000000,
          500999000,
          500996069.0720655,
          501004528.7391274,
          501012389.7486325,
          501014040.54662955,
          501018358.44611895,
          501012000.77775216,
          500996001.6648011,
          500983467.6687922,
          500996803.58025855,
          501004476.9292176,
          501006492.95280445,
          501008930.3560083,
          501014505.2975776,
          501010187.9117049,
          501003736.97903514,
          501018166.62749314,
          501026452.12333715,
          501029217.32246554,
          501024846.4426776,
          501019452.49832666,
          501025399.82614565,
          501019619.40617204,
          501014801.2075933,
          501016475.3193811,
          501026210.80700153,
          501022030.62859005,
          501027214.24548185,
          501018038.5348511,
          501019655.0673264,
          501002442.2167815,
          501000459.40926164,
          501010475.83273494,
          500997271.61892104,
          500999388.0124722,
          500997472.8659516,
          500994818.1687603,
          501007630.58737564,
          501030341.7926604,
          501023314.28886724,
          500999934.5706241,
          501005392.63315177,
          500973840.30130684,
          500943107.2728851,
          500931438.0569569,
          500955029.4551467,
          500924506.97847414,
          500946123.1181866,
          500921280.93886876,
          500941703.39188826,
          500961129.8288872,
          500930990.00531757,
          500930565.2681891,
          500935689.5373722,
          500944929.33582973,
          500948536.75588346,
          500967408.1457617,
          500975191.1147431,
          500999654.09676814,
          501000776.39685553,
          500981245.94889075,
          500965755.771453,
          500970312.96221113,
          500988236.8691463,
          500994473.27155447,
          500983296.11017406,
          501000198.29380447,
          500989664.8442259,
          501000706.5633831,
          501001669.75457615,
          500999967.6439994,
          500995156.69816554,
          500996919.3400018,
          500998078.3172365,
          500958601.98964435,
          500947452.07798177,
          500980842.43123496,
          501001670.8379841,
          501003369.77688825,
          500978679.81933606,
          500961742.14186776,
          500940430.7394186,
          500971605.57979417,
          500969296.8316222,
          500959967.4404765,
          500963147.8196279,
          500960139.76346606,
          500966058.5696738,
          500976025.5466509,
          500954952.4427314,
          500980180.0242512,
          501005616.1221222,
          500999453.2524442,
          500999289.97518885,
          500964767.3158396,
          500939554.3387096,
          500953714.9290575,
          500981524.5725601,
          500973045.17255706,
          500952284.2860775,
          500972429.37545663,
          501015356.6051775,
          501011596.0564032,
          501024192.6860509,
          501029740.3614877,
          501037202.3311058,
          501038060.30984604,
          501062253.3938574,
          501081570.07518506,
          501080493.2974493
         ]
        }
       ],
       "layout": {
        "height": 350,
        "legend": {
         "orientation": "h",
         "traceorder": "normal",
         "x": 1,
         "xanchor": "right",
         "y": 1.02,
         "yanchor": "bottom"
        },
        "margin": {
         "b": 30,
         "l": 30,
         "r": 30,
         "t": 30
        },
        "template": {
         "data": {
          "bar": [
           {
            "error_x": {
             "color": "#2a3f5f"
            },
            "error_y": {
             "color": "#2a3f5f"
            },
            "marker": {
             "line": {
              "color": "#E5ECF6",
              "width": 0.5
             }
            },
            "type": "bar"
           }
          ],
          "barpolar": [
           {
            "marker": {
             "line": {
              "color": "#E5ECF6",
              "width": 0.5
             }
            },
            "type": "barpolar"
           }
          ],
          "carpet": [
           {
            "aaxis": {
             "endlinecolor": "#2a3f5f",
             "gridcolor": "white",
             "linecolor": "white",
             "minorgridcolor": "white",
             "startlinecolor": "#2a3f5f"
            },
            "baxis": {
             "endlinecolor": "#2a3f5f",
             "gridcolor": "white",
             "linecolor": "white",
             "minorgridcolor": "white",
             "startlinecolor": "#2a3f5f"
            },
            "type": "carpet"
           }
          ],
          "choropleth": [
           {
            "colorbar": {
             "outlinewidth": 0,
             "ticks": ""
            },
            "type": "choropleth"
           }
          ],
          "contour": [
           {
            "colorbar": {
             "outlinewidth": 0,
             "ticks": ""
            },
            "colorscale": [
             [
              0,
              "#0d0887"
             ],
             [
              0.1111111111111111,
              "#46039f"
             ],
             [
              0.2222222222222222,
              "#7201a8"
             ],
             [
              0.3333333333333333,
              "#9c179e"
             ],
             [
              0.4444444444444444,
              "#bd3786"
             ],
             [
              0.5555555555555556,
              "#d8576b"
             ],
             [
              0.6666666666666666,
              "#ed7953"
             ],
             [
              0.7777777777777778,
              "#fb9f3a"
             ],
             [
              0.8888888888888888,
              "#fdca26"
             ],
             [
              1,
              "#f0f921"
             ]
            ],
            "type": "contour"
           }
          ],
          "contourcarpet": [
           {
            "colorbar": {
             "outlinewidth": 0,
             "ticks": ""
            },
            "type": "contourcarpet"
           }
          ],
          "heatmap": [
           {
            "colorbar": {
             "outlinewidth": 0,
             "ticks": ""
            },
            "colorscale": [
             [
              0,
              "#0d0887"
             ],
             [
              0.1111111111111111,
              "#46039f"
             ],
             [
              0.2222222222222222,
              "#7201a8"
             ],
             [
              0.3333333333333333,
              "#9c179e"
             ],
             [
              0.4444444444444444,
              "#bd3786"
             ],
             [
              0.5555555555555556,
              "#d8576b"
             ],
             [
              0.6666666666666666,
              "#ed7953"
             ],
             [
              0.7777777777777778,
              "#fb9f3a"
             ],
             [
              0.8888888888888888,
              "#fdca26"
             ],
             [
              1,
              "#f0f921"
             ]
            ],
            "type": "heatmap"
           }
          ],
          "heatmapgl": [
           {
            "colorbar": {
             "outlinewidth": 0,
             "ticks": ""
            },
            "colorscale": [
             [
              0,
              "#0d0887"
             ],
             [
              0.1111111111111111,
              "#46039f"
             ],
             [
              0.2222222222222222,
              "#7201a8"
             ],
             [
              0.3333333333333333,
              "#9c179e"
             ],
             [
              0.4444444444444444,
              "#bd3786"
             ],
             [
              0.5555555555555556,
              "#d8576b"
             ],
             [
              0.6666666666666666,
              "#ed7953"
             ],
             [
              0.7777777777777778,
              "#fb9f3a"
             ],
             [
              0.8888888888888888,
              "#fdca26"
             ],
             [
              1,
              "#f0f921"
             ]
            ],
            "type": "heatmapgl"
           }
          ],
          "histogram": [
           {
            "marker": {
             "colorbar": {
              "outlinewidth": 0,
              "ticks": ""
             }
            },
            "type": "histogram"
           }
          ],
          "histogram2d": [
           {
            "colorbar": {
             "outlinewidth": 0,
             "ticks": ""
            },
            "colorscale": [
             [
              0,
              "#0d0887"
             ],
             [
              0.1111111111111111,
              "#46039f"
             ],
             [
              0.2222222222222222,
              "#7201a8"
             ],
             [
              0.3333333333333333,
              "#9c179e"
             ],
             [
              0.4444444444444444,
              "#bd3786"
             ],
             [
              0.5555555555555556,
              "#d8576b"
             ],
             [
              0.6666666666666666,
              "#ed7953"
             ],
             [
              0.7777777777777778,
              "#fb9f3a"
             ],
             [
              0.8888888888888888,
              "#fdca26"
             ],
             [
              1,
              "#f0f921"
             ]
            ],
            "type": "histogram2d"
           }
          ],
          "histogram2dcontour": [
           {
            "colorbar": {
             "outlinewidth": 0,
             "ticks": ""
            },
            "colorscale": [
             [
              0,
              "#0d0887"
             ],
             [
              0.1111111111111111,
              "#46039f"
             ],
             [
              0.2222222222222222,
              "#7201a8"
             ],
             [
              0.3333333333333333,
              "#9c179e"
             ],
             [
              0.4444444444444444,
              "#bd3786"
             ],
             [
              0.5555555555555556,
              "#d8576b"
             ],
             [
              0.6666666666666666,
              "#ed7953"
             ],
             [
              0.7777777777777778,
              "#fb9f3a"
             ],
             [
              0.8888888888888888,
              "#fdca26"
             ],
             [
              1,
              "#f0f921"
             ]
            ],
            "type": "histogram2dcontour"
           }
          ],
          "mesh3d": [
           {
            "colorbar": {
             "outlinewidth": 0,
             "ticks": ""
            },
            "type": "mesh3d"
           }
          ],
          "parcoords": [
           {
            "line": {
             "colorbar": {
              "outlinewidth": 0,
              "ticks": ""
             }
            },
            "type": "parcoords"
           }
          ],
          "pie": [
           {
            "automargin": true,
            "type": "pie"
           }
          ],
          "scatter": [
           {
            "marker": {
             "colorbar": {
              "outlinewidth": 0,
              "ticks": ""
             }
            },
            "type": "scatter"
           }
          ],
          "scatter3d": [
           {
            "line": {
             "colorbar": {
              "outlinewidth": 0,
              "ticks": ""
             }
            },
            "marker": {
             "colorbar": {
              "outlinewidth": 0,
              "ticks": ""
             }
            },
            "type": "scatter3d"
           }
          ],
          "scattercarpet": [
           {
            "marker": {
             "colorbar": {
              "outlinewidth": 0,
              "ticks": ""
             }
            },
            "type": "scattercarpet"
           }
          ],
          "scattergeo": [
           {
            "marker": {
             "colorbar": {
              "outlinewidth": 0,
              "ticks": ""
             }
            },
            "type": "scattergeo"
           }
          ],
          "scattergl": [
           {
            "marker": {
             "colorbar": {
              "outlinewidth": 0,
              "ticks": ""
             }
            },
            "type": "scattergl"
           }
          ],
          "scattermapbox": [
           {
            "marker": {
             "colorbar": {
              "outlinewidth": 0,
              "ticks": ""
             }
            },
            "type": "scattermapbox"
           }
          ],
          "scatterpolar": [
           {
            "marker": {
             "colorbar": {
              "outlinewidth": 0,
              "ticks": ""
             }
            },
            "type": "scatterpolar"
           }
          ],
          "scatterpolargl": [
           {
            "marker": {
             "colorbar": {
              "outlinewidth": 0,
              "ticks": ""
             }
            },
            "type": "scatterpolargl"
           }
          ],
          "scatterternary": [
           {
            "marker": {
             "colorbar": {
              "outlinewidth": 0,
              "ticks": ""
             }
            },
            "type": "scatterternary"
           }
          ],
          "surface": [
           {
            "colorbar": {
             "outlinewidth": 0,
             "ticks": ""
            },
            "colorscale": [
             [
              0,
              "#0d0887"
             ],
             [
              0.1111111111111111,
              "#46039f"
             ],
             [
              0.2222222222222222,
              "#7201a8"
             ],
             [
              0.3333333333333333,
              "#9c179e"
             ],
             [
              0.4444444444444444,
              "#bd3786"
             ],
             [
              0.5555555555555556,
              "#d8576b"
             ],
             [
              0.6666666666666666,
              "#ed7953"
             ],
             [
              0.7777777777777778,
              "#fb9f3a"
             ],
             [
              0.8888888888888888,
              "#fdca26"
             ],
             [
              1,
              "#f0f921"
             ]
            ],
            "type": "surface"
           }
          ],
          "table": [
           {
            "cells": {
             "fill": {
              "color": "#EBF0F8"
             },
             "line": {
              "color": "white"
             }
            },
            "header": {
             "fill": {
              "color": "#C8D4E3"
             },
             "line": {
              "color": "white"
             }
            },
            "type": "table"
           }
          ]
         },
         "layout": {
          "annotationdefaults": {
           "arrowcolor": "#2a3f5f",
           "arrowhead": 0,
           "arrowwidth": 1
          },
          "coloraxis": {
           "colorbar": {
            "outlinewidth": 0,
            "ticks": ""
           }
          },
          "colorscale": {
           "diverging": [
            [
             0,
             "#8e0152"
            ],
            [
             0.1,
             "#c51b7d"
            ],
            [
             0.2,
             "#de77ae"
            ],
            [
             0.3,
             "#f1b6da"
            ],
            [
             0.4,
             "#fde0ef"
            ],
            [
             0.5,
             "#f7f7f7"
            ],
            [
             0.6,
             "#e6f5d0"
            ],
            [
             0.7,
             "#b8e186"
            ],
            [
             0.8,
             "#7fbc41"
            ],
            [
             0.9,
             "#4d9221"
            ],
            [
             1,
             "#276419"
            ]
           ],
           "sequential": [
            [
             0,
             "#0d0887"
            ],
            [
             0.1111111111111111,
             "#46039f"
            ],
            [
             0.2222222222222222,
             "#7201a8"
            ],
            [
             0.3333333333333333,
             "#9c179e"
            ],
            [
             0.4444444444444444,
             "#bd3786"
            ],
            [
             0.5555555555555556,
             "#d8576b"
            ],
            [
             0.6666666666666666,
             "#ed7953"
            ],
            [
             0.7777777777777778,
             "#fb9f3a"
            ],
            [
             0.8888888888888888,
             "#fdca26"
            ],
            [
             1,
             "#f0f921"
            ]
           ],
           "sequentialminus": [
            [
             0,
             "#0d0887"
            ],
            [
             0.1111111111111111,
             "#46039f"
            ],
            [
             0.2222222222222222,
             "#7201a8"
            ],
            [
             0.3333333333333333,
             "#9c179e"
            ],
            [
             0.4444444444444444,
             "#bd3786"
            ],
            [
             0.5555555555555556,
             "#d8576b"
            ],
            [
             0.6666666666666666,
             "#ed7953"
            ],
            [
             0.7777777777777778,
             "#fb9f3a"
            ],
            [
             0.8888888888888888,
             "#fdca26"
            ],
            [
             1,
             "#f0f921"
            ]
           ]
          },
          "colorway": [
           "#1f77b4",
           "#ff7f0e",
           "#2ca02c",
           "#dc3912",
           "#9467bd",
           "#8c564b",
           "#e377c2",
           "#7f7f7f",
           "#bcbd22",
           "#17becf"
          ],
          "font": {
           "color": "#2a3f5f"
          },
          "geo": {
           "bgcolor": "white",
           "lakecolor": "white",
           "landcolor": "#E5ECF6",
           "showlakes": true,
           "showland": true,
           "subunitcolor": "white"
          },
          "hoverlabel": {
           "align": "left"
          },
          "hovermode": "closest",
          "mapbox": {
           "style": "light"
          },
          "paper_bgcolor": "white",
          "plot_bgcolor": "#E5ECF6",
          "polar": {
           "angularaxis": {
            "gridcolor": "white",
            "linecolor": "white",
            "ticks": ""
           },
           "bgcolor": "#E5ECF6",
           "radialaxis": {
            "gridcolor": "white",
            "linecolor": "white",
            "ticks": ""
           }
          },
          "scene": {
           "xaxis": {
            "backgroundcolor": "#E5ECF6",
            "gridcolor": "white",
            "gridwidth": 2,
            "linecolor": "white",
            "showbackground": true,
            "ticks": "",
            "zerolinecolor": "white"
           },
           "yaxis": {
            "backgroundcolor": "#E5ECF6",
            "gridcolor": "white",
            "gridwidth": 2,
            "linecolor": "white",
            "showbackground": true,
            "ticks": "",
            "zerolinecolor": "white"
           },
           "zaxis": {
            "backgroundcolor": "#E5ECF6",
            "gridcolor": "white",
            "gridwidth": 2,
            "linecolor": "white",
            "showbackground": true,
            "ticks": "",
            "zerolinecolor": "white"
           }
          },
          "shapedefaults": {
           "line": {
            "color": "#2a3f5f"
           }
          },
          "ternary": {
           "aaxis": {
            "gridcolor": "white",
            "linecolor": "white",
            "ticks": ""
           },
           "baxis": {
            "gridcolor": "white",
            "linecolor": "white",
            "ticks": ""
           },
           "bgcolor": "#E5ECF6",
           "caxis": {
            "gridcolor": "white",
            "linecolor": "white",
            "ticks": ""
           }
          },
          "title": {
           "x": 0.05
          },
          "xaxis": {
           "automargin": true,
           "gridcolor": "white",
           "linecolor": "white",
           "ticks": "",
           "title": {
            "standoff": 15
           },
           "zerolinecolor": "white",
           "zerolinewidth": 2
          },
          "yaxis": {
           "automargin": true,
           "gridcolor": "white",
           "linecolor": "white",
           "ticks": "",
           "title": {
            "standoff": 15
           },
           "zerolinecolor": "white",
           "zerolinewidth": 2
          }
         }
        },
        "width": 700
       }
      },
      "text/html": [
       "<div>                            <div id=\"4e9d08bb-c28c-439b-a07b-8c5140662414\" class=\"plotly-graph-div\" style=\"height:350px; width:700px;\"></div>            <script type=\"text/javascript\">                require([\"plotly\"], function(Plotly) {                    window.PLOTLYENV=window.PLOTLYENV || {};                                    if (document.getElementById(\"4e9d08bb-c28c-439b-a07b-8c5140662414\")) {                    Plotly.newPlot(                        \"4e9d08bb-c28c-439b-a07b-8c5140662414\",                        [{\"showlegend\":false,\"x\":[\"2022-10-17T00:00:00\",\"2022-10-18T00:00:00\",\"2022-10-19T00:00:00\",\"2022-10-20T00:00:00\",\"2022-10-21T00:00:00\",\"2022-10-24T00:00:00\",\"2022-10-25T00:00:00\",\"2022-10-26T00:00:00\",\"2022-10-27T00:00:00\",\"2022-10-28T00:00:00\",\"2022-10-31T00:00:00\",\"2022-11-01T00:00:00\",\"2022-11-02T00:00:00\",\"2022-11-03T00:00:00\",\"2022-11-04T00:00:00\",\"2022-11-07T00:00:00\",\"2022-11-08T00:00:00\",\"2022-11-09T00:00:00\",\"2022-11-10T00:00:00\",\"2022-11-11T00:00:00\",\"2022-11-14T00:00:00\",\"2022-11-15T00:00:00\",\"2022-11-16T00:00:00\",\"2022-11-17T00:00:00\",\"2022-11-18T00:00:00\",\"2022-11-21T00:00:00\",\"2022-11-22T00:00:00\",\"2022-11-23T00:00:00\",\"2022-11-25T00:00:00\",\"2022-11-28T00:00:00\",\"2022-11-29T00:00:00\",\"2022-11-30T00:00:00\",\"2022-12-01T00:00:00\",\"2022-12-02T00:00:00\",\"2022-12-05T00:00:00\",\"2022-12-06T00:00:00\",\"2022-12-07T00:00:00\",\"2022-12-08T00:00:00\",\"2022-12-09T00:00:00\",\"2022-12-12T00:00:00\",\"2022-12-13T00:00:00\",\"2022-12-14T00:00:00\",\"2022-12-15T00:00:00\",\"2022-12-16T00:00:00\",\"2022-12-19T00:00:00\",\"2022-12-20T00:00:00\",\"2022-12-21T00:00:00\",\"2022-12-22T00:00:00\",\"2022-12-23T00:00:00\",\"2022-12-27T00:00:00\",\"2022-12-28T00:00:00\",\"2022-12-29T00:00:00\",\"2022-12-30T00:00:00\",\"2023-01-03T00:00:00\",\"2023-01-04T00:00:00\",\"2023-01-05T00:00:00\",\"2023-01-06T00:00:00\",\"2023-01-09T00:00:00\",\"2023-01-10T00:00:00\",\"2023-01-11T00:00:00\",\"2023-01-12T00:00:00\",\"2023-01-13T00:00:00\",\"2023-01-17T00:00:00\",\"2023-01-18T00:00:00\",\"2023-01-19T00:00:00\",\"2023-01-20T00:00:00\",\"2023-01-23T00:00:00\",\"2023-01-24T00:00:00\",\"2023-01-25T00:00:00\",\"2023-01-26T00:00:00\",\"2023-01-27T00:00:00\",\"2023-01-30T00:00:00\",\"2023-01-31T00:00:00\",\"2023-02-01T00:00:00\",\"2023-02-02T00:00:00\",\"2023-02-03T00:00:00\",\"2023-02-06T00:00:00\",\"2023-02-07T00:00:00\",\"2023-02-08T00:00:00\",\"2023-02-09T00:00:00\",\"2023-02-10T00:00:00\",\"2023-02-13T00:00:00\",\"2023-02-14T00:00:00\",\"2023-02-15T00:00:00\",\"2023-02-16T00:00:00\",\"2023-02-17T00:00:00\",\"2023-02-21T00:00:00\",\"2023-02-22T00:00:00\",\"2023-02-23T00:00:00\",\"2023-02-24T00:00:00\",\"2023-02-27T00:00:00\",\"2023-02-28T00:00:00\",\"2023-03-01T00:00:00\",\"2023-03-02T00:00:00\",\"2023-03-03T00:00:00\",\"2023-03-06T00:00:00\",\"2023-03-07T00:00:00\",\"2023-03-08T00:00:00\",\"2023-03-09T00:00:00\",\"2023-03-10T00:00:00\",\"2023-03-13T00:00:00\",\"2023-03-14T00:00:00\",\"2023-03-15T00:00:00\",\"2023-03-16T00:00:00\",\"2023-03-17T00:00:00\",\"2023-03-20T00:00:00\",\"2023-03-21T00:00:00\",\"2023-03-22T00:00:00\",\"2023-03-23T00:00:00\",\"2023-03-24T00:00:00\",\"2023-03-27T00:00:00\",\"2023-03-28T00:00:00\",\"2023-03-29T00:00:00\",\"2023-03-30T00:00:00\",\"2023-03-31T00:00:00\",\"2023-04-03T00:00:00\",\"2023-04-04T00:00:00\",\"2023-04-05T00:00:00\",\"2023-04-06T00:00:00\",\"2023-04-10T00:00:00\",\"2023-04-11T00:00:00\",\"2023-04-12T00:00:00\",\"2023-04-13T00:00:00\",\"2023-04-14T00:00:00\",\"2023-04-17T00:00:00\",\"2023-04-18T00:00:00\",\"2023-04-19T00:00:00\",\"2023-04-20T00:00:00\",\"2023-04-21T00:00:00\",\"2023-04-24T00:00:00\",\"2023-04-25T00:00:00\",\"2023-04-26T00:00:00\",\"2023-04-27T00:00:00\",\"2023-04-28T00:00:00\",\"2023-05-01T00:00:00\",\"2023-05-02T00:00:00\",\"2023-05-03T00:00:00\",\"2023-05-04T00:00:00\",\"2023-05-05T00:00:00\",\"2023-05-08T00:00:00\",\"2023-05-09T00:00:00\",\"2023-05-10T00:00:00\",\"2023-05-11T00:00:00\",\"2023-05-12T00:00:00\",\"2023-05-15T00:00:00\",\"2023-05-16T00:00:00\",\"2023-05-17T00:00:00\",\"2023-05-18T00:00:00\",\"2023-05-19T00:00:00\",\"2023-05-22T00:00:00\",\"2023-05-23T00:00:00\",\"2023-05-24T00:00:00\",\"2023-05-25T00:00:00\",\"2023-05-26T00:00:00\",\"2023-05-30T00:00:00\",\"2023-05-31T00:00:00\",\"2023-06-01T00:00:00\",\"2023-06-02T00:00:00\",\"2023-06-05T00:00:00\",\"2023-06-06T00:00:00\",\"2023-06-07T00:00:00\",\"2023-06-08T00:00:00\",\"2023-06-09T00:00:00\",\"2023-06-12T00:00:00\",\"2023-06-13T00:00:00\",\"2023-06-14T00:00:00\"],\"type\":\"scatter\",\"uid\":\"8604bfce-5565-4e9a-8450-59bc4664f7d1\",\"y\":[501000000.0,501000000.0,501000000.0,501000000.0,501000000.0,501000000.0,501000000.0,501000000.0,501000000.0,501000000.0,501000000.0,501000000.0,501000000.0,501000000.0,501000000.0,501000000.0,501000000.0,501000000.0,501000000.0,501000000.0,501000000.0,501000000.0,501000000.0,501000000.0,501000000.0,501000000.0,501000000.0,501000000.0,501000000.0,501000000.0,501000000.0,501000000.0,501000000.0,501000000.0,501000000.0,501000000.0,501000000.0,501000000.0,501000000.0,501000000.0,501000000.0,501000000.0,501000000.0,501000000.0,501000000.0,501000000.0,501000000.0,501000000.0,501000000.0,501000000.0,501000000.0,501000000.0,501000000.0,501000000.0,501000000.0,501000000.0,500999000.0,500996069.0720655,501004528.7391274,501012389.7486325,501014040.54662955,501018358.44611895,501012000.77775216,500996001.6648011,500983467.6687922,500996803.58025855,501004476.9292176,501006492.95280445,501008930.3560083,501014505.2975776,501010187.9117049,501003736.97903514,501018166.62749314,501026452.12333715,501029217.32246554,501024846.4426776,501019452.49832666,501025399.82614565,501019619.40617204,501014801.2075933,501016475.3193811,501026210.80700153,501022030.62859005,501027214.24548185,501018038.5348511,501019655.0673264,501002442.2167815,501000459.40926164,501010475.83273494,500997271.61892104,500999388.0124722,500997472.8659516,500994818.1687603,501007630.58737564,501030341.7926604,501023314.28886724,500999934.5706241,501005392.63315177,500973840.30130684,500943107.2728851,500931438.0569569,500955029.4551467,500924506.97847414,500946123.1181866,500921280.93886876,500941703.39188826,500961129.8288872,500930990.00531757,500930565.2681891,500935689.5373722,500944929.33582973,500948536.75588346,500967408.1457617,500975191.1147431,500999654.09676814,501000776.39685553,500981245.94889075,500965755.771453,500970312.96221113,500988236.8691463,500994473.27155447,500983296.11017406,501000198.29380447,500989664.8442259,501000706.5633831,501001669.75457615,500999967.6439994,500995156.69816554,500996919.3400018,500998078.3172365,500958601.98964435,500947452.07798177,500980842.43123496,501001670.8379841,501003369.77688825,500978679.81933606,500961742.14186776,500940430.7394186,500971605.57979417,500969296.8316222,500959967.4404765,500963147.8196279,500960139.76346606,500966058.5696738,500976025.5466509,500954952.4427314,500980180.0242512,501005616.1221222,500999453.2524442,500999289.97518885,500964767.3158396,500939554.3387096,500953714.9290575,500981524.5725601,500973045.17255706,500952284.2860775,500972429.37545663,501015356.6051775,501011596.0564032,501024192.6860509,501029740.3614877,501037202.3311058,501038060.30984604,501062253.3938574,501081570.07518506,501080493.2974493]}],                        {\"template\":{\"data\":{\"barpolar\":[{\"marker\":{\"line\":{\"color\":\"#E5ECF6\",\"width\":0.5}},\"type\":\"barpolar\"}],\"bar\":[{\"error_x\":{\"color\":\"#2a3f5f\"},\"error_y\":{\"color\":\"#2a3f5f\"},\"marker\":{\"line\":{\"color\":\"#E5ECF6\",\"width\":0.5}},\"type\":\"bar\"}],\"carpet\":[{\"aaxis\":{\"endlinecolor\":\"#2a3f5f\",\"gridcolor\":\"white\",\"linecolor\":\"white\",\"minorgridcolor\":\"white\",\"startlinecolor\":\"#2a3f5f\"},\"baxis\":{\"endlinecolor\":\"#2a3f5f\",\"gridcolor\":\"white\",\"linecolor\":\"white\",\"minorgridcolor\":\"white\",\"startlinecolor\":\"#2a3f5f\"},\"type\":\"carpet\"}],\"choropleth\":[{\"colorbar\":{\"outlinewidth\":0,\"ticks\":\"\"},\"type\":\"choropleth\"}],\"contourcarpet\":[{\"colorbar\":{\"outlinewidth\":0,\"ticks\":\"\"},\"type\":\"contourcarpet\"}],\"contour\":[{\"colorbar\":{\"outlinewidth\":0,\"ticks\":\"\"},\"colorscale\":[[0.0,\"#0d0887\"],[0.1111111111111111,\"#46039f\"],[0.2222222222222222,\"#7201a8\"],[0.3333333333333333,\"#9c179e\"],[0.4444444444444444,\"#bd3786\"],[0.5555555555555556,\"#d8576b\"],[0.6666666666666666,\"#ed7953\"],[0.7777777777777778,\"#fb9f3a\"],[0.8888888888888888,\"#fdca26\"],[1.0,\"#f0f921\"]],\"type\":\"contour\"}],\"heatmapgl\":[{\"colorbar\":{\"outlinewidth\":0,\"ticks\":\"\"},\"colorscale\":[[0.0,\"#0d0887\"],[0.1111111111111111,\"#46039f\"],[0.2222222222222222,\"#7201a8\"],[0.3333333333333333,\"#9c179e\"],[0.4444444444444444,\"#bd3786\"],[0.5555555555555556,\"#d8576b\"],[0.6666666666666666,\"#ed7953\"],[0.7777777777777778,\"#fb9f3a\"],[0.8888888888888888,\"#fdca26\"],[1.0,\"#f0f921\"]],\"type\":\"heatmapgl\"}],\"heatmap\":[{\"colorbar\":{\"outlinewidth\":0,\"ticks\":\"\"},\"colorscale\":[[0.0,\"#0d0887\"],[0.1111111111111111,\"#46039f\"],[0.2222222222222222,\"#7201a8\"],[0.3333333333333333,\"#9c179e\"],[0.4444444444444444,\"#bd3786\"],[0.5555555555555556,\"#d8576b\"],[0.6666666666666666,\"#ed7953\"],[0.7777777777777778,\"#fb9f3a\"],[0.8888888888888888,\"#fdca26\"],[1.0,\"#f0f921\"]],\"type\":\"heatmap\"}],\"histogram2dcontour\":[{\"colorbar\":{\"outlinewidth\":0,\"ticks\":\"\"},\"colorscale\":[[0.0,\"#0d0887\"],[0.1111111111111111,\"#46039f\"],[0.2222222222222222,\"#7201a8\"],[0.3333333333333333,\"#9c179e\"],[0.4444444444444444,\"#bd3786\"],[0.5555555555555556,\"#d8576b\"],[0.6666666666666666,\"#ed7953\"],[0.7777777777777778,\"#fb9f3a\"],[0.8888888888888888,\"#fdca26\"],[1.0,\"#f0f921\"]],\"type\":\"histogram2dcontour\"}],\"histogram2d\":[{\"colorbar\":{\"outlinewidth\":0,\"ticks\":\"\"},\"colorscale\":[[0.0,\"#0d0887\"],[0.1111111111111111,\"#46039f\"],[0.2222222222222222,\"#7201a8\"],[0.3333333333333333,\"#9c179e\"],[0.4444444444444444,\"#bd3786\"],[0.5555555555555556,\"#d8576b\"],[0.6666666666666666,\"#ed7953\"],[0.7777777777777778,\"#fb9f3a\"],[0.8888888888888888,\"#fdca26\"],[1.0,\"#f0f921\"]],\"type\":\"histogram2d\"}],\"histogram\":[{\"marker\":{\"colorbar\":{\"outlinewidth\":0,\"ticks\":\"\"}},\"type\":\"histogram\"}],\"mesh3d\":[{\"colorbar\":{\"outlinewidth\":0,\"ticks\":\"\"},\"type\":\"mesh3d\"}],\"parcoords\":[{\"line\":{\"colorbar\":{\"outlinewidth\":0,\"ticks\":\"\"}},\"type\":\"parcoords\"}],\"pie\":[{\"automargin\":true,\"type\":\"pie\"}],\"scatter3d\":[{\"line\":{\"colorbar\":{\"outlinewidth\":0,\"ticks\":\"\"}},\"marker\":{\"colorbar\":{\"outlinewidth\":0,\"ticks\":\"\"}},\"type\":\"scatter3d\"}],\"scattercarpet\":[{\"marker\":{\"colorbar\":{\"outlinewidth\":0,\"ticks\":\"\"}},\"type\":\"scattercarpet\"}],\"scattergeo\":[{\"marker\":{\"colorbar\":{\"outlinewidth\":0,\"ticks\":\"\"}},\"type\":\"scattergeo\"}],\"scattergl\":[{\"marker\":{\"colorbar\":{\"outlinewidth\":0,\"ticks\":\"\"}},\"type\":\"scattergl\"}],\"scattermapbox\":[{\"marker\":{\"colorbar\":{\"outlinewidth\":0,\"ticks\":\"\"}},\"type\":\"scattermapbox\"}],\"scatterpolargl\":[{\"marker\":{\"colorbar\":{\"outlinewidth\":0,\"ticks\":\"\"}},\"type\":\"scatterpolargl\"}],\"scatterpolar\":[{\"marker\":{\"colorbar\":{\"outlinewidth\":0,\"ticks\":\"\"}},\"type\":\"scatterpolar\"}],\"scatter\":[{\"marker\":{\"colorbar\":{\"outlinewidth\":0,\"ticks\":\"\"}},\"type\":\"scatter\"}],\"scatterternary\":[{\"marker\":{\"colorbar\":{\"outlinewidth\":0,\"ticks\":\"\"}},\"type\":\"scatterternary\"}],\"surface\":[{\"colorbar\":{\"outlinewidth\":0,\"ticks\":\"\"},\"colorscale\":[[0.0,\"#0d0887\"],[0.1111111111111111,\"#46039f\"],[0.2222222222222222,\"#7201a8\"],[0.3333333333333333,\"#9c179e\"],[0.4444444444444444,\"#bd3786\"],[0.5555555555555556,\"#d8576b\"],[0.6666666666666666,\"#ed7953\"],[0.7777777777777778,\"#fb9f3a\"],[0.8888888888888888,\"#fdca26\"],[1.0,\"#f0f921\"]],\"type\":\"surface\"}],\"table\":[{\"cells\":{\"fill\":{\"color\":\"#EBF0F8\"},\"line\":{\"color\":\"white\"}},\"header\":{\"fill\":{\"color\":\"#C8D4E3\"},\"line\":{\"color\":\"white\"}},\"type\":\"table\"}]},\"layout\":{\"annotationdefaults\":{\"arrowcolor\":\"#2a3f5f\",\"arrowhead\":0,\"arrowwidth\":1},\"coloraxis\":{\"colorbar\":{\"outlinewidth\":0,\"ticks\":\"\"}},\"colorscale\":{\"diverging\":[[0,\"#8e0152\"],[0.1,\"#c51b7d\"],[0.2,\"#de77ae\"],[0.3,\"#f1b6da\"],[0.4,\"#fde0ef\"],[0.5,\"#f7f7f7\"],[0.6,\"#e6f5d0\"],[0.7,\"#b8e186\"],[0.8,\"#7fbc41\"],[0.9,\"#4d9221\"],[1,\"#276419\"]],\"sequential\":[[0.0,\"#0d0887\"],[0.1111111111111111,\"#46039f\"],[0.2222222222222222,\"#7201a8\"],[0.3333333333333333,\"#9c179e\"],[0.4444444444444444,\"#bd3786\"],[0.5555555555555556,\"#d8576b\"],[0.6666666666666666,\"#ed7953\"],[0.7777777777777778,\"#fb9f3a\"],[0.8888888888888888,\"#fdca26\"],[1.0,\"#f0f921\"]],\"sequentialminus\":[[0.0,\"#0d0887\"],[0.1111111111111111,\"#46039f\"],[0.2222222222222222,\"#7201a8\"],[0.3333333333333333,\"#9c179e\"],[0.4444444444444444,\"#bd3786\"],[0.5555555555555556,\"#d8576b\"],[0.6666666666666666,\"#ed7953\"],[0.7777777777777778,\"#fb9f3a\"],[0.8888888888888888,\"#fdca26\"],[1.0,\"#f0f921\"]]},\"colorway\":[\"#1f77b4\",\"#ff7f0e\",\"#2ca02c\",\"#dc3912\",\"#9467bd\",\"#8c564b\",\"#e377c2\",\"#7f7f7f\",\"#bcbd22\",\"#17becf\"],\"font\":{\"color\":\"#2a3f5f\"},\"geo\":{\"bgcolor\":\"white\",\"lakecolor\":\"white\",\"landcolor\":\"#E5ECF6\",\"showlakes\":true,\"showland\":true,\"subunitcolor\":\"white\"},\"hoverlabel\":{\"align\":\"left\"},\"hovermode\":\"closest\",\"mapbox\":{\"style\":\"light\"},\"paper_bgcolor\":\"white\",\"plot_bgcolor\":\"#E5ECF6\",\"polar\":{\"angularaxis\":{\"gridcolor\":\"white\",\"linecolor\":\"white\",\"ticks\":\"\"},\"bgcolor\":\"#E5ECF6\",\"radialaxis\":{\"gridcolor\":\"white\",\"linecolor\":\"white\",\"ticks\":\"\"}},\"scene\":{\"xaxis\":{\"backgroundcolor\":\"#E5ECF6\",\"gridcolor\":\"white\",\"gridwidth\":2,\"linecolor\":\"white\",\"showbackground\":true,\"ticks\":\"\",\"zerolinecolor\":\"white\"},\"yaxis\":{\"backgroundcolor\":\"#E5ECF6\",\"gridcolor\":\"white\",\"gridwidth\":2,\"linecolor\":\"white\",\"showbackground\":true,\"ticks\":\"\",\"zerolinecolor\":\"white\"},\"zaxis\":{\"backgroundcolor\":\"#E5ECF6\",\"gridcolor\":\"white\",\"gridwidth\":2,\"linecolor\":\"white\",\"showbackground\":true,\"ticks\":\"\",\"zerolinecolor\":\"white\"}},\"shapedefaults\":{\"line\":{\"color\":\"#2a3f5f\"}},\"ternary\":{\"aaxis\":{\"gridcolor\":\"white\",\"linecolor\":\"white\",\"ticks\":\"\"},\"baxis\":{\"gridcolor\":\"white\",\"linecolor\":\"white\",\"ticks\":\"\"},\"bgcolor\":\"#E5ECF6\",\"caxis\":{\"gridcolor\":\"white\",\"linecolor\":\"white\",\"ticks\":\"\"}},\"title\":{\"x\":0.05},\"xaxis\":{\"automargin\":true,\"gridcolor\":\"white\",\"linecolor\":\"white\",\"ticks\":\"\",\"title\":{\"standoff\":15},\"zerolinecolor\":\"white\",\"zerolinewidth\":2},\"yaxis\":{\"automargin\":true,\"gridcolor\":\"white\",\"linecolor\":\"white\",\"ticks\":\"\",\"title\":{\"standoff\":15},\"zerolinecolor\":\"white\",\"zerolinewidth\":2}}},\"margin\":{\"t\":30,\"b\":30,\"l\":30,\"r\":30},\"legend\":{\"orientation\":\"h\",\"yanchor\":\"bottom\",\"y\":1.02,\"xanchor\":\"right\",\"x\":1,\"traceorder\":\"normal\"},\"width\":700,\"height\":350},                        {\"responsive\": true}                    ).then(function(){\n",
       "                            \n",
       "var gd = document.getElementById('4e9d08bb-c28c-439b-a07b-8c5140662414');\n",
       "var x = new MutationObserver(function (mutations, observer) {{\n",
       "        var display = window.getComputedStyle(gd).display;\n",
       "        if (!display || display === 'none') {{\n",
       "            console.log([gd, 'removed!']);\n",
       "            Plotly.purge(gd);\n",
       "            observer.disconnect();\n",
       "        }}\n",
       "}});\n",
       "\n",
       "// Listen for the removal of the full notebook cells\n",
       "var notebookContainer = gd.closest('#notebook-container');\n",
       "if (notebookContainer) {{\n",
       "    x.observe(notebookContainer, {childList: true});\n",
       "}}\n",
       "\n",
       "// Listen for the clearing of the current output cell\n",
       "var outputEl = gd.closest('.output');\n",
       "if (outputEl) {{\n",
       "    x.observe(outputEl, {childList: true});\n",
       "}}\n",
       "\n",
       "                        })                };                });            </script>        </div>"
      ]
     },
     "metadata": {},
     "output_type": "display_data"
    },
    {
     "name": "stdout",
     "output_type": "stream",
     "text": [
      "Time taken: 855.5060300827026 seconds\n"
     ]
    }
   ],
   "source": [
    "# We want to start the data fetch model_window days before the start of the backtest so we can run modelling on the first data\n",
    "fetch_start_date_dt = datetime.strptime(start_date, \"%Y-%m-%d\") - timedelta(days=90)\n",
    "fetch_start_date = fetch_start_date_dt.strftime(\"%Y-%m-%d\")\n",
    "\n",
    "start_time = time.time()\n",
    "\n",
    "# Downloading stock data\n",
    "data = yf.download(stocks, start=fetch_start_date, end=end_date)['Close']\n",
    "data = data.ffill().bfill()\n",
    "\n",
    "# Not particularly important- our starting capital for assigned to each stock\n",
    "initial_capital = 1000000\n",
    "\n",
    "# Running the data through our indicator- days when we buy will have a value of 1, and when we sell -1. 0 otherwise\n",
    "buy_indicator = BuyIndicator.run(data, model_window=120, r2_b_threshold=0.001, days_before_tc=7, max_searches=20)\n",
    "\n",
    "entry_signal = buy_indicator.buy_indicator == 1\n",
    "exit_signal = buy_indicator.buy_indicator == -1\n",
    "\n",
    "# Dropping some extra columns to make it match data\n",
    "entry_signal.columns = entry_signal.columns.droplevel(['custom_model_window', 'custom_r2_b_threshold', 'custom_days_before_tc', 'custom_max_searches'])\n",
    "\n",
    "# Cropping the data for the backtest to make it faster\n",
    "data = data.loc[start_date:end_date]\n",
    "entry_signal = entry_signal.loc[start_date:end_date]\n",
    "exit_signal = exit_signal.loc[start_date:end_date]\n",
    "\n",
    "# # Assigning an equal proportion of the capital to each stock, investing it all when we get an entr signal\n",
    "num_stocks_to_buy = entry_signal.sum(axis=1)\n",
    "weights = entry_signal.div(num_stocks_to_buy, axis=0)\n",
    "weights = weights.mul(initial_capital / data).fillna(0)\n",
    "\n",
    "# Creating the portfolio. Can change fees as desired\n",
    "portfolio = vbt.Portfolio.from_signals(\n",
    "    data,\n",
    "    entry_signal,\n",
    "    exit_signal,\n",
    "    init_cash=initial_capital,\n",
    "    size=weights,\n",
    "    size_type='Amount',\n",
    "    fees=0.001\n",
    ")\n",
    "\n",
    "# Printing stats- can add extra info about the portfolio at this point\n",
    "print(portfolio.stats(group_by = True))\n",
    "\n",
    "total_portfolio_value = portfolio.value().sum(axis=1)\n",
    "total_portfolio_value.vbt.plot().show()\n",
    "\n",
    "end_time = time.time()\n",
    "print(f'Time taken: {end_time - start_time} seconds')"
   ]
  },
  {
   "cell_type": "code",
   "execution_count": 20,
   "id": "9cb18e4f",
   "metadata": {},
   "outputs": [
    {
     "name": "stdout",
     "output_type": "stream",
     "text": [
      "[*********************100%***********************]  10 of 10 completed\n"
     ]
    },
    {
     "ename": "ValueError",
     "evalue": "Only SizeType.Amount, SizeType.Value, and SizeType.Percent are supported",
     "output_type": "error",
     "traceback": [
      "\u001b[1;31m---------------------------------------------------------------------------\u001b[0m",
      "\u001b[1;31mValueError\u001b[0m                                Traceback (most recent call last)",
      "\u001b[1;32m~\\AppData\\Local\\Temp\\ipykernel_29564\\3394383287.py\u001b[0m in \u001b[0;36m<module>\u001b[1;34m\u001b[0m\n\u001b[0;32m     46\u001b[0m \u001b[1;33m\u001b[0m\u001b[0m\n\u001b[0;32m     47\u001b[0m \u001b[1;31m# Creating the portfolio. Can change fees as desired\u001b[0m\u001b[1;33m\u001b[0m\u001b[1;33m\u001b[0m\u001b[0m\n\u001b[1;32m---> 48\u001b[1;33m portfolio = vbt.Portfolio.from_signals(\n\u001b[0m\u001b[0;32m     49\u001b[0m     \u001b[0mdata\u001b[0m\u001b[1;33m,\u001b[0m\u001b[1;33m\u001b[0m\u001b[1;33m\u001b[0m\u001b[0m\n\u001b[0;32m     50\u001b[0m     \u001b[0mentry_signal\u001b[0m\u001b[1;33m,\u001b[0m\u001b[1;33m\u001b[0m\u001b[1;33m\u001b[0m\u001b[0m\n",
      "\u001b[1;32m~\\anaconda3\\lib\\site-packages\\vectorbt\\portfolio\\base.py\u001b[0m in \u001b[0;36mfrom_signals\u001b[1;34m(cls, close, entries, exits, short_entries, short_exits, signal_func_nb, signal_args, size, size_type, price, fees, fixed_fees, slippage, min_size, max_size, size_granularity, reject_prob, lock_cash, allow_partial, raise_reject, log, accumulate, upon_long_conflict, upon_short_conflict, upon_dir_conflict, upon_opposite_entry, direction, val_price, open, high, low, sl_stop, sl_trail, tp_stop, stop_entry_price, stop_exit_price, upon_stop_exit, upon_stop_update, adjust_sl_func_nb, adjust_sl_args, adjust_tp_func_nb, adjust_tp_args, use_stops, init_cash, cash_sharing, call_seq, ffill_val_price, update_value, max_orders, max_logs, seed, group_by, broadcast_named_args, broadcast_kwargs, template_mapping, wrapper_kwargs, freq, attach_call_seq, **kwargs)\u001b[0m\n\u001b[0;32m   2958\u001b[0m \u001b[1;33m\u001b[0m\u001b[0m\n\u001b[0;32m   2959\u001b[0m         \u001b[1;31m# Perform the simulation\u001b[0m\u001b[1;33m\u001b[0m\u001b[1;33m\u001b[0m\u001b[0m\n\u001b[1;32m-> 2960\u001b[1;33m         order_records, log_records = nb.simulate_from_signal_func_nb(\n\u001b[0m\u001b[0;32m   2961\u001b[0m             \u001b[0mtarget_shape_2d\u001b[0m\u001b[1;33m,\u001b[0m\u001b[1;33m\u001b[0m\u001b[1;33m\u001b[0m\u001b[0m\n\u001b[0;32m   2962\u001b[0m             \u001b[0mcs_group_lens\u001b[0m\u001b[1;33m,\u001b[0m  \u001b[1;31m# group only if cash sharing is enabled to speed up\u001b[0m\u001b[1;33m\u001b[0m\u001b[1;33m\u001b[0m\u001b[0m\n",
      "\u001b[1;32m~\\anaconda3\\lib\\site-packages\\vectorbt\\portfolio\\nb.py\u001b[0m in \u001b[0;36msignals_to_size_nb\u001b[1;34m()\u001b[0m\n\u001b[0;32m   1704\u001b[0m     \u001b[1;34m\"\"\"Translate direction-aware signals into size, size type, and direction.\"\"\"\u001b[0m\u001b[1;33m\u001b[0m\u001b[1;33m\u001b[0m\u001b[0m\n\u001b[0;32m   1705\u001b[0m     \u001b[1;32mif\u001b[0m \u001b[0msize_type\u001b[0m \u001b[1;33m!=\u001b[0m \u001b[0mSizeType\u001b[0m\u001b[1;33m.\u001b[0m\u001b[0mAmount\u001b[0m \u001b[1;32mand\u001b[0m \u001b[0msize_type\u001b[0m \u001b[1;33m!=\u001b[0m \u001b[0mSizeType\u001b[0m\u001b[1;33m.\u001b[0m\u001b[0mValue\u001b[0m \u001b[1;32mand\u001b[0m \u001b[0msize_type\u001b[0m \u001b[1;33m!=\u001b[0m \u001b[0mSizeType\u001b[0m\u001b[1;33m.\u001b[0m\u001b[0mPercent\u001b[0m\u001b[1;33m:\u001b[0m\u001b[1;33m\u001b[0m\u001b[1;33m\u001b[0m\u001b[0m\n\u001b[1;32m-> 1706\u001b[1;33m         \u001b[1;32mraise\u001b[0m \u001b[0mValueError\u001b[0m\u001b[1;33m(\u001b[0m\u001b[1;34m\"Only SizeType.Amount, SizeType.Value, and SizeType.Percent are supported\"\u001b[0m\u001b[1;33m)\u001b[0m\u001b[1;33m\u001b[0m\u001b[1;33m\u001b[0m\u001b[0m\n\u001b[0m\u001b[0;32m   1707\u001b[0m     \u001b[0morder_size\u001b[0m \u001b[1;33m=\u001b[0m \u001b[1;36m0.\u001b[0m\u001b[1;33m\u001b[0m\u001b[1;33m\u001b[0m\u001b[0m\n\u001b[0;32m   1708\u001b[0m     \u001b[0mdirection\u001b[0m \u001b[1;33m=\u001b[0m \u001b[0mDirection\u001b[0m\u001b[1;33m.\u001b[0m\u001b[0mBoth\u001b[0m\u001b[1;33m\u001b[0m\u001b[1;33m\u001b[0m\u001b[0m\n",
      "\u001b[1;31mValueError\u001b[0m: Only SizeType.Amount, SizeType.Value, and SizeType.Percent are supported"
     ]
    }
   ],
   "source": [
    "# We want to start the data fetch model_window days before the start of the backtest so we can run modelling on the first data\n",
    "fetch_start_date_dt = datetime.strptime(start_date, \"%Y-%m-%d\") - timedelta(days=90)\n",
    "fetch_start_date = fetch_start_date_dt.strftime(\"%Y-%m-%d\")\n",
    "\n",
    "start_time = time.time()\n",
    "\n",
    "# Downloading stock data\n",
    "data = yf.download(stocks10, start=fetch_start_date, end=end_date)['Close']\n",
    "data = data.ffill().bfill()\n",
    "\n",
    "# Not particularly important- our starting capital for assigned to each stock\n",
    "initial_capital = 1000000\n",
    "\n",
    "# Running the data through our indicator- days when we buy will have a value of 1, and when we sell -1. 0 otherwise\n",
    "buy_indicator = BuyIndicator.run(data, model_window=120, r2_b_threshold=0.001, days_before_tc=7, max_searches=20)\n",
    "\n",
    "entry_signal = buy_indicator.buy_indicator == 1\n",
    "exit_signal = buy_indicator.buy_indicator == -1\n",
    "\n",
    "# Cropping the data for the backtest to make it faster\n",
    "data = data.loc[start_date:end_date]\n",
    "entry_signal = entry_signal.loc[start_date:end_date]\n",
    "exit_signal = exit_signal.loc[start_date:end_date]\n",
    "\n",
    "def custom_weights(data, entry_signal, exit_signal, initial_capital):\n",
    "    \n",
    "    # Dropping unnecessary levels from column index of entry_signal and exit_signal\n",
    "    entry_signal.columns = entry_signal.columns.droplevel(['custom_model_window', 'custom_r2_b_threshold', 'custom_days_before_tc', 'custom_max_searches'])\n",
    "    exit_signal.columns = exit_signal.columns.droplevel(['custom_model_window', 'custom_r2_b_threshold', 'custom_days_before_tc', 'custom_max_searches'])\n",
    "    \n",
    "    cash_available = pd.Series(data=[initial_capital]*len(data), index=data.index)\n",
    "\n",
    "    cash_after_sell = cash_available + (exit_signal * data).sum(axis=1)\n",
    "\n",
    "    cash_after_buy = cash_after_sell - (entry_signal * data).sum(axis=1)\n",
    "\n",
    "    weights = entry_signal.div(cash_after_buy, axis=0)\n",
    "\n",
    "    return weights\n",
    "\n",
    "# Call the function\n",
    "weights = custom_weights(data, entry_signal, exit_signal, initial_capital)\n",
    "\n",
    "# Creating the portfolio. Can change fees as desired\n",
    "portfolio = vbt.Portfolio.from_signals(\n",
    "    data,\n",
    "    entry_signal,\n",
    "    exit_signal,\n",
    "    init_cash=initial_capital,\n",
    "    size=weights,\n",
    "    size_type='TargetPercent',\n",
    "    fees=0.001\n",
    ")\n",
    "\n",
    "# Printing stats- can add extra info about the portfolio at this point\n",
    "print(portfolio.stats(group_by = True))\n",
    "\n",
    "total_portfolio_value = portfolio.value().sum(axis=1)\n",
    "total_portfolio_value.vbt.plot().show()\n",
    "\n",
    "end_time = time.time()\n",
    "print(f'Time taken: {end_time - start_time} seconds')"
   ]
  },
  {
   "cell_type": "code",
   "execution_count": 7,
   "id": "0d4a58bb",
   "metadata": {},
   "outputs": [
    {
     "name": "stdout",
     "output_type": "stream",
     "text": [
      "[*********************100%***********************]  10 of 10 completed\n"
     ]
    },
    {
     "ename": "ValueError",
     "evalue": "Can only compare identically-labeled Series objects",
     "output_type": "error",
     "traceback": [
      "\u001b[1;31m---------------------------------------------------------------------------\u001b[0m",
      "\u001b[1;31mValueError\u001b[0m                                Traceback (most recent call last)",
      "\u001b[1;32m~\\AppData\\Local\\Temp\\ipykernel_29564\\2274873771.py\u001b[0m in \u001b[0;36m<module>\u001b[1;34m\u001b[0m\n\u001b[0;32m    135\u001b[0m \u001b[1;33m\u001b[0m\u001b[0m\n\u001b[0;32m    136\u001b[0m \u001b[1;31m# Find the portfolio with the highest total return\u001b[0m\u001b[1;33m\u001b[0m\u001b[1;33m\u001b[0m\u001b[0m\n\u001b[1;32m--> 137\u001b[1;33m \u001b[0mbest_portfolio_params\u001b[0m\u001b[1;33m,\u001b[0m \u001b[0mbest_portfolio\u001b[0m \u001b[1;33m=\u001b[0m \u001b[0mmax\u001b[0m\u001b[1;33m(\u001b[0m\u001b[0mportfolio_list\u001b[0m\u001b[1;33m,\u001b[0m \u001b[0mkey\u001b[0m\u001b[1;33m=\u001b[0m\u001b[1;32mlambda\u001b[0m \u001b[0mx\u001b[0m\u001b[1;33m:\u001b[0m \u001b[0mx\u001b[0m\u001b[1;33m[\u001b[0m\u001b[1;36m1\u001b[0m\u001b[1;33m]\u001b[0m\u001b[1;33m.\u001b[0m\u001b[0mtotal_return\u001b[0m\u001b[1;33m(\u001b[0m\u001b[1;33m)\u001b[0m\u001b[1;33m)\u001b[0m\u001b[1;33m\u001b[0m\u001b[1;33m\u001b[0m\u001b[0m\n\u001b[0m\u001b[0;32m    138\u001b[0m \u001b[1;33m\u001b[0m\u001b[0m\n\u001b[0;32m    139\u001b[0m \u001b[0mprint\u001b[0m\u001b[1;33m(\u001b[0m\u001b[1;34m\"Best parameters:\"\u001b[0m\u001b[1;33m)\u001b[0m\u001b[1;33m\u001b[0m\u001b[1;33m\u001b[0m\u001b[0m\n",
      "\u001b[1;32m~\\anaconda3\\lib\\site-packages\\pandas\\core\\ops\\common.py\u001b[0m in \u001b[0;36mnew_method\u001b[1;34m(self, other)\u001b[0m\n\u001b[0;32m     68\u001b[0m         \u001b[0mother\u001b[0m \u001b[1;33m=\u001b[0m \u001b[0mitem_from_zerodim\u001b[0m\u001b[1;33m(\u001b[0m\u001b[0mother\u001b[0m\u001b[1;33m)\u001b[0m\u001b[1;33m\u001b[0m\u001b[1;33m\u001b[0m\u001b[0m\n\u001b[0;32m     69\u001b[0m \u001b[1;33m\u001b[0m\u001b[0m\n\u001b[1;32m---> 70\u001b[1;33m         \u001b[1;32mreturn\u001b[0m \u001b[0mmethod\u001b[0m\u001b[1;33m(\u001b[0m\u001b[0mself\u001b[0m\u001b[1;33m,\u001b[0m \u001b[0mother\u001b[0m\u001b[1;33m)\u001b[0m\u001b[1;33m\u001b[0m\u001b[1;33m\u001b[0m\u001b[0m\n\u001b[0m\u001b[0;32m     71\u001b[0m \u001b[1;33m\u001b[0m\u001b[0m\n\u001b[0;32m     72\u001b[0m     \u001b[1;32mreturn\u001b[0m \u001b[0mnew_method\u001b[0m\u001b[1;33m\u001b[0m\u001b[1;33m\u001b[0m\u001b[0m\n",
      "\u001b[1;32m~\\anaconda3\\lib\\site-packages\\pandas\\core\\arraylike.py\u001b[0m in \u001b[0;36m__gt__\u001b[1;34m(self, other)\u001b[0m\n\u001b[0;32m     54\u001b[0m     \u001b[1;33m@\u001b[0m\u001b[0munpack_zerodim_and_defer\u001b[0m\u001b[1;33m(\u001b[0m\u001b[1;34m\"__gt__\"\u001b[0m\u001b[1;33m)\u001b[0m\u001b[1;33m\u001b[0m\u001b[1;33m\u001b[0m\u001b[0m\n\u001b[0;32m     55\u001b[0m     \u001b[1;32mdef\u001b[0m \u001b[0m__gt__\u001b[0m\u001b[1;33m(\u001b[0m\u001b[0mself\u001b[0m\u001b[1;33m,\u001b[0m \u001b[0mother\u001b[0m\u001b[1;33m)\u001b[0m\u001b[1;33m:\u001b[0m\u001b[1;33m\u001b[0m\u001b[1;33m\u001b[0m\u001b[0m\n\u001b[1;32m---> 56\u001b[1;33m         \u001b[1;32mreturn\u001b[0m \u001b[0mself\u001b[0m\u001b[1;33m.\u001b[0m\u001b[0m_cmp_method\u001b[0m\u001b[1;33m(\u001b[0m\u001b[0mother\u001b[0m\u001b[1;33m,\u001b[0m \u001b[0moperator\u001b[0m\u001b[1;33m.\u001b[0m\u001b[0mgt\u001b[0m\u001b[1;33m)\u001b[0m\u001b[1;33m\u001b[0m\u001b[1;33m\u001b[0m\u001b[0m\n\u001b[0m\u001b[0;32m     57\u001b[0m \u001b[1;33m\u001b[0m\u001b[0m\n\u001b[0;32m     58\u001b[0m     \u001b[1;33m@\u001b[0m\u001b[0munpack_zerodim_and_defer\u001b[0m\u001b[1;33m(\u001b[0m\u001b[1;34m\"__ge__\"\u001b[0m\u001b[1;33m)\u001b[0m\u001b[1;33m\u001b[0m\u001b[1;33m\u001b[0m\u001b[0m\n",
      "\u001b[1;32m~\\anaconda3\\lib\\site-packages\\pandas\\core\\series.py\u001b[0m in \u001b[0;36m_cmp_method\u001b[1;34m(self, other, op)\u001b[0m\n\u001b[0;32m   5615\u001b[0m \u001b[1;33m\u001b[0m\u001b[0m\n\u001b[0;32m   5616\u001b[0m         \u001b[1;32mif\u001b[0m \u001b[0misinstance\u001b[0m\u001b[1;33m(\u001b[0m\u001b[0mother\u001b[0m\u001b[1;33m,\u001b[0m \u001b[0mSeries\u001b[0m\u001b[1;33m)\u001b[0m \u001b[1;32mand\u001b[0m \u001b[1;32mnot\u001b[0m \u001b[0mself\u001b[0m\u001b[1;33m.\u001b[0m\u001b[0m_indexed_same\u001b[0m\u001b[1;33m(\u001b[0m\u001b[0mother\u001b[0m\u001b[1;33m)\u001b[0m\u001b[1;33m:\u001b[0m\u001b[1;33m\u001b[0m\u001b[1;33m\u001b[0m\u001b[0m\n\u001b[1;32m-> 5617\u001b[1;33m             \u001b[1;32mraise\u001b[0m \u001b[0mValueError\u001b[0m\u001b[1;33m(\u001b[0m\u001b[1;34m\"Can only compare identically-labeled Series objects\"\u001b[0m\u001b[1;33m)\u001b[0m\u001b[1;33m\u001b[0m\u001b[1;33m\u001b[0m\u001b[0m\n\u001b[0m\u001b[0;32m   5618\u001b[0m \u001b[1;33m\u001b[0m\u001b[0m\n\u001b[0;32m   5619\u001b[0m         \u001b[0mlvalues\u001b[0m \u001b[1;33m=\u001b[0m \u001b[0mself\u001b[0m\u001b[1;33m.\u001b[0m\u001b[0m_values\u001b[0m\u001b[1;33m\u001b[0m\u001b[1;33m\u001b[0m\u001b[0m\n",
      "\u001b[1;31mValueError\u001b[0m: Can only compare identically-labeled Series objects"
     ]
    }
   ],
   "source": [
    "\n",
    "import vectorbt as vbt\n",
    "import yfinance as yf\n",
    "import numpy as np\n",
    "import pandas as pd\n",
    "from datetime import datetime, timedelta\n",
    "from scipy.optimize import least_squares\n",
    "from sklearn.metrics import r2_score\n",
    "import warnings\n",
    "from lppls import lppls\n",
    "\n",
    "\n",
    "warnings.filterwarnings('ignore')\n",
    "\n",
    "url = 'https://en.wikipedia.org/wiki/List_of_S%26P_500_companies'\n",
    "tables = pd.read_html(url)\n",
    "table = tables[0]\n",
    "stocks = table['Symbol'].tolist()\n",
    "stocks.remove('BRK.B')\n",
    "stocks.remove('BF.B')\n",
    "stocks10 = stocks[:10]\n",
    "\n",
    "start_date='2022-10-15'\n",
    "end_date='2023-06-15'\n",
    "\n",
    "\n",
    "def loss(params, x, y):\n",
    "    return func(x, *params) - y\n",
    "\n",
    "\n",
    "def func(x, a, b, c):\n",
    "    return a * np.exp(b * x) + c\n",
    "\n",
    "\n",
    "def exp_growth_and_r2(close, model_window=90, r2_b_threshold=0.001, days_before_tc=14, max_searches=25):\n",
    "    try:\n",
    "        output = np.zeros(len(close))\n",
    "        for i in range(model_window, len(close), 30):\n",
    "            historical_data = close.iloc[i-model_window:i]\n",
    "            historical_data = historical_data.rolling(window = 5).mean().dropna()\n",
    "\n",
    "            historical_data.dropna(inplace=True)\n",
    "\n",
    "            xdata = (historical_data.index - historical_data.index[0]).days.values\n",
    "            ydata = historical_data.values\n",
    "            log_ydata = np.log(ydata + 1).ravel()\n",
    "\n",
    "            res = least_squares(loss, x0=(1, 0.01, 1), args=(xdata, log_ydata))\n",
    "\n",
    "            fitted_y = func(xdata, *res.x).ravel()\n",
    "\n",
    "            a, b, c = res.x\n",
    "            r2 = r2_score(log_ydata, fitted_y)\n",
    "            \n",
    "            if r2 * b > r2_b_threshold:\n",
    "                time = [pd.Timestamp.toordinal(t) for t in historical_data.index]\n",
    "\n",
    "                price = np.log(historical_data.values).ravel()\n",
    "\n",
    "                observations = np.array([time, price])\n",
    "\n",
    "                tcs = []\n",
    "\n",
    "                for _ in range(5):\n",
    "                    lppls_model = lppls.LPPLS(observations=observations)\n",
    "                    tc, m, w, a, b, c1, c2, phi, O, D = lppls_model.fit(max_searches)\n",
    "                    tcs.append(tc)\n",
    "\n",
    "                tc = np.median(tcs)\n",
    "                tc = tc - datetime.toordinal(historical_data.index[-1])\n",
    "                \n",
    "                if tc > 14:\n",
    "                    output[i] = 1\n",
    "                    if i+int(round(tc))-14 < len(output):\n",
    "                        output[i+int(round(tc))-14]=-1\n",
    "                \n",
    "        output[-1] = -1\n",
    "        return output\n",
    "    \n",
    "    except Exception as e:\n",
    "        print(f\"Couldn't process stock. Error: {str(e)}\")\n",
    "\n",
    "\n",
    "BuyIndicator = vbt.IndicatorFactory(\n",
    "    input_names=['close'],\n",
    "    param_names=['model_window', 'r2_b_threshold', 'days_before_tc', 'max_searches'],\n",
    "    output_names=['buy_indicator']\n",
    ").from_apply_func(exp_growth_and_r2,\n",
    "                model_window=90, \n",
    "                r2_b_threshold=0.001, \n",
    "                days_before_tc=14, \n",
    "                max_searches=25,\n",
    "                keep_pd=True,\n",
    "                per_column=True)\n",
    "\n",
    "fetch_start_date_dt = datetime.strptime(start_date, \"%Y-%m-%d\") - timedelta(days=90)\n",
    "fetch_start_date = fetch_start_date_dt.strftime(\"%Y-%m-%d\")\n",
    "\n",
    "data = yf.download(['ANSS', 'GOOGL', 'AXON', 'ETN', 'HWM', 'MOS', 'PGR', 'PWR', 'REGN', 'TT'], start=fetch_start_date, end=end_date)['Close']\n",
    "data = data.ffill().bfill()\n",
    "\n",
    "initial_capital = 1000000\n",
    "\n",
    "import itertools\n",
    "\n",
    "# Define your parameter space\n",
    "param_space = {\n",
    "    'model_window': [60, 90, 120], \n",
    "    'r2_b_threshold': [0.0005, 0.001, 0.0015],\n",
    "    'days_before_tc': [7, 14, 21],\n",
    "    'max_searches': [20, 25, 30]\n",
    "}\n",
    "\n",
    "# Generate all combinations of parameters\n",
    "param_combinations = list(itertools.product(*param_space.values()))\n",
    "\n",
    "# Generate portfolios for all combinations\n",
    "portfolio_list = []\n",
    "for params in param_combinations:\n",
    "    params_dict = dict(zip(param_space.keys(), params))\n",
    "    \n",
    "    buy_indicator = BuyIndicator.run(data, **params_dict)\n",
    "    entry_signal = buy_indicator.buy_indicator == 1\n",
    "    exit_signal = buy_indicator.buy_indicator == -1\n",
    "\n",
    "\n",
    "    portfolio = vbt.Portfolio.from_signals(\n",
    "        data,\n",
    "        entry_signal,\n",
    "        exit_signal,\n",
    "        init_cash=initial_capital,\n",
    "        fees=0.001\n",
    "    )\n",
    "\n",
    "    portfolio_list.append((params_dict, portfolio))\n",
    "\n",
    "# Find the portfolio with the highest total return\n",
    "best_portfolio_params, best_portfolio = max(portfolio_list, key=lambda x: x[1].total_return())\n",
    "\n",
    "print(\"Best parameters:\")\n",
    "print(best_portfolio_params)\n"
   ]
  },
  {
   "cell_type": "code",
   "execution_count": 8,
   "id": "5b8042f4",
   "metadata": {},
   "outputs": [
    {
     "name": "stdout",
     "output_type": "stream",
     "text": [
      "Best parameters:\n",
      "{'model_window': 120, 'r2_b_threshold': 0.0005, 'days_before_tc': 7, 'max_searches': 20}\n"
     ]
    }
   ],
   "source": [
    "best_portfolio_params, best_portfolio = max(portfolio_list, key=lambda x: x[1].final_value().iloc[-1])\n",
    "\n",
    "print(\"Best parameters:\")\n",
    "print(best_portfolio_params)"
   ]
  },
  {
   "cell_type": "code",
   "execution_count": null,
   "id": "0bd00a19",
   "metadata": {},
   "outputs": [],
   "source": []
  }
 ],
 "metadata": {
  "kernelspec": {
   "display_name": "Python 3 (ipykernel)",
   "language": "python",
   "name": "python3"
  },
  "language_info": {
   "codemirror_mode": {
    "name": "ipython",
    "version": 3
   },
   "file_extension": ".py",
   "mimetype": "text/x-python",
   "name": "python",
   "nbconvert_exporter": "python",
   "pygments_lexer": "ipython3",
   "version": "3.9.13"
  }
 },
 "nbformat": 4,
 "nbformat_minor": 5
}
